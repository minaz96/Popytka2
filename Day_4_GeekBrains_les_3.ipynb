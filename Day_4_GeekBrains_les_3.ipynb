{
  "nbformat": 4,
  "nbformat_minor": 0,
  "metadata": {
    "colab": {
      "name": "Day_4_GeekBrains_les_3.ipynb",
      "provenance": [],
      "authorship_tag": "ABX9TyNpnOtvs9NYXWlP10i1a1TZ",
      "include_colab_link": true
    },
    "kernelspec": {
      "name": "python3",
      "display_name": "Python 3"
    }
  },
  "cells": [
    {
      "cell_type": "markdown",
      "metadata": {
        "id": "view-in-github",
        "colab_type": "text"
      },
      "source": [
        "<a href=\"https://colab.research.google.com/github/minaz96/Popytka2/blob/master/Day_4_GeekBrains_les_3.ipynb\" target=\"_parent\"><img src=\"https://colab.research.google.com/assets/colab-badge.svg\" alt=\"Open In Colab\"/></a>"
      ]
    },
    {
      "cell_type": "markdown",
      "metadata": {
        "id": "uLkXjMrxCE6K",
        "colab_type": "text"
      },
      "source": [
        "2. Во втором массиве сохранить индексы четных элементов первого массива. Например, если дан массив со значениями 8, 3, 15, 6, 4, 2, второй массив надо заполнить значениями 0, 3, 4, 5 (помните, что индексация начинается с нуля), т. к. именно в этих позициях первого массива стоят четные числа."
      ]
    },
    {
      "cell_type": "code",
      "metadata": {
        "id": "-xUS0BT6G0zs",
        "colab_type": "code",
        "outputId": "aeaf282f-dbe4-4163-e2bf-45061f979f06",
        "colab": {
          "base_uri": "https://localhost:8080/",
          "height": 71
        }
      },
      "source": [
        "import random \n",
        "array = [random.randint(0, 100) for _ in range (100)]\n",
        "print (array)\n",
        "arr_new = []\n",
        " \n",
        "for i in range(len(array)):\n",
        "  if array[i]%2 == 0:\n",
        "    arr_new.append(i) \n",
        "  \n",
        "print (arr_new)"
      ],
      "execution_count": 3,
      "outputs": [
        {
          "output_type": "stream",
          "text": [
            "[86, 20, 49, 14, 96, 12, 35, 22, 18, 65, 6, 63, 4, 88, 61, 19, 47, 0, 47, 57, 39, 56, 68, 86, 4, 32, 42, 38, 18, 64, 89, 76, 9, 63, 68, 69, 35, 30, 70, 32, 94, 98, 73, 88, 7, 75, 65, 49, 92, 50, 24, 75, 2, 14, 65, 63, 61, 68, 44, 29, 50, 62, 3, 39, 28, 42, 46, 32, 84, 48, 78, 28, 22, 32, 64, 87, 26, 83, 15, 72, 0, 7, 23, 51, 6, 83, 86, 48, 92, 94, 92, 4, 38, 31, 42, 17, 84, 23, 68, 23]\n",
            "[0, 1, 3, 4, 5, 7, 8, 10, 12, 13, 17, 21, 22, 23, 24, 25, 26, 27, 28, 29, 31, 34, 37, 38, 39, 40, 41, 43, 48, 49, 50, 52, 53, 57, 58, 60, 61, 64, 65, 66, 67, 68, 69, 70, 71, 72, 73, 74, 76, 79, 80, 84, 86, 87, 88, 89, 90, 91, 92, 94, 96, 98]\n"
          ],
          "name": "stdout"
        }
      ]
    }
  ]
}