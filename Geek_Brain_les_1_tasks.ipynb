{
  "nbformat": 4,
  "nbformat_minor": 0,
  "metadata": {
    "colab": {
      "name": "Geek Brain tasks.ipynb",
      "provenance": [],
      "authorship_tag": "ABX9TyNJCzsonqkpVG6fHY4GDXGu",
      "include_colab_link": true
    },
    "kernelspec": {
      "name": "python3",
      "display_name": "Python 3"
    }
  },
  "cells": [
    {
      "cell_type": "markdown",
      "metadata": {
        "id": "view-in-github",
        "colab_type": "text"
      },
      "source": [
        "<a href=\"https://colab.research.google.com/github/minaz96/Popytka2/blob/master/Geek_Brain_les_1_tasks.ipynb\" target=\"_parent\"><img src=\"https://colab.research.google.com/assets/colab-badge.svg\" alt=\"Open In Colab\"/></a>"
      ]
    },
    {
      "cell_type": "markdown",
      "metadata": {
        "id": "OD0X1KMktATE",
        "colab_type": "text"
      },
      "source": [
        "1. Выполнить логические побитовые операции «И», «ИЛИ» и др. над числами 5 и 6. Выполнить над числом 5 побитовый сдвиг вправо и влево на два знака.\n"
      ]
    },
    {
      "cell_type": "code",
      "metadata": {
        "id": "tMUWxSQxtvBE",
        "colab_type": "code",
        "colab": {
          "base_uri": "https://localhost:8080/",
          "height": 102
        },
        "outputId": "514bf976-3136-4600-cd60-6f601696111c"
      },
      "source": [
        "a = 5\n",
        "b = 6 \n",
        "bit_or = 5 | 6\n",
        "bit_and = 5 & 6\n",
        "bit_xor = 5 ^ 6\n",
        "print(\"Результат побитового OR: %10s\" % bin(bit_or))\n",
        "print(\"Результат побитового AND: %10s\" % bin(bit_and))\n",
        "print(\"Результат побитового XOR: %10s\" % bin(bit_xor))\n",
        "d = a >> 2\n",
        "e = a << 2\n",
        "print(\"Результат побитового сдвига вправо: %10s\" % bin(d))\n",
        "print(\"Результат побитового сдвига влево: %10s\" % bin(e))"
      ],
      "execution_count": 1,
      "outputs": [
        {
          "output_type": "stream",
          "text": [
            "Результат побитового OR:      0b111\n",
            "Результат побитового AND:      0b100\n",
            "Результат побитового XOR:       0b11\n",
            "Результат побитового сдвига вправо:        0b1\n",
            "Результат побитового сдвига влево:    0b10100\n"
          ],
          "name": "stdout"
        }
      ]
    },
    {
      "cell_type": "markdown",
      "metadata": {
        "id": "52urt4AYtDTZ",
        "colab_type": "text"
      },
      "source": [
        "2. По введенным пользователем координатам двух точек вывести уравнение прямой вида y = kx + b, проходящей через эти точки."
      ]
    },
    {
      "cell_type": "code",
      "metadata": {
        "id": "GSo_61mDt-Pl",
        "colab_type": "code",
        "colab": {}
      },
      "source": [
        "print(\"Координаты точки A(x1;y1):\")\n",
        "x1 = float(input(\"x1 = \"))\n",
        "y1 = float(input(\"y1 = \"))\n",
        " \n",
        "print(\"Координаты точки B(x2;y2):\")\n",
        "x2 = float(input(\"x2 = \"))\n",
        "y2 = float(input(\"y2 = \"))\n",
        "\n",
        "print(\"Уравнение прямой, проходящей через эти точки:\")\n",
        "k = (y1 - y2) / (x1 - x2)\n",
        "b = y1 - k*x1\n",
        "print(\"y = %.2f * x + %.2f\" % (k,b))"
      ],
      "execution_count": 0,
      "outputs": []
    },
    {
      "cell_type": "markdown",
      "metadata": {
        "id": "LKjwVER_tDj2",
        "colab_type": "text"
      },
      "source": [
        "3. Написать программу, которая генерирует в указанных пользователем границах:\n",
        "\n",
        "a. случайное целое число,\n",
        "\n",
        "b. случайное вещественное число,\n",
        "\n",
        "c. случайный символ.\n",
        "\n",
        "Для каждого из трех случаев пользователь задает свои границы диапазона. Например, если надо получить случайный символ от 'a' до 'f', то вводятся эти символы. Программа должна вывести на экран любой символ алфавита от 'a' до 'f' включительно."
      ]
    },
    {
      "cell_type": "code",
      "metadata": {
        "id": "3l8zeEYEuAnF",
        "colab_type": "code",
        "colab": {}
      },
      "source": [
        "from random import random\n",
        "a1 = int(input(\"введите начало диапазона: \"))\n",
        "a2 = int(input (\"введите конец диапазона: \"))\n",
        "n = int(random() * (a2 - a1 + 1)) + a1\n",
        "print (n)\n",
        "\n",
        "a1 = float(input(\"введите начало диапазона: \"))\n",
        "a2 = float(input (\"введите конец диапазона: \"))\n",
        "n = random() * (a2 - a1) + a1\n",
        "print(round(n, 3))\n",
        "\n",
        "a1 = ord(input(\"введите начало диапазона: \"))\n",
        "a2 = ord(input (\"введите конец диапазона: \"))\n",
        "n = int(random() * (a2 - a1 + 1)) + a1\n",
        "print (chr(n))"
      ],
      "execution_count": 0,
      "outputs": []
    },
    {
      "cell_type": "markdown",
      "metadata": {
        "id": "B_V4nNyJtDth",
        "colab_type": "text"
      },
      "source": [
        "4. Пользователь вводит две буквы. Определить, на каких местах алфавита они стоят, и сколько между ними находится букв.\n",
        "5. Пользователь вводит номер буквы в алфавите. Определить, какая это буква."
      ]
    },
    {
      "cell_type": "code",
      "metadata": {
        "id": "TlIsZouPuEQZ",
        "colab_type": "code",
        "colab": {}
      },
      "source": [
        "import string\n",
        "string.ascii_lowercase\n",
        "a = ord(input(\"введите 1-ю латинскую букву: \"))\n",
        "b = ord(input (\"введите 2-ю латинскую букву: \"))\n",
        "a = a - ord('a')+1\n",
        "b = b - ord('a')+1\n",
        "print('Позиции: %d и %d' % (a,b))\n",
        "print('Между буквами букв:', abs(b-a)-1)\n",
        "\n",
        "n = int(input('Номер буквы в алфавите: '))\n",
        "n = ord('a') + n - 1\n",
        "print('Это буква', chr(n))"
      ],
      "execution_count": 0,
      "outputs": []
    },
    {
      "cell_type": "markdown",
      "metadata": {
        "id": "IZHyLZFPtET5",
        "colab_type": "text"
      },
      "source": [
        "6. По длинам трех отрезков, введенных пользователем, определить возможность существования треугольника, составленного из этих отрезков. Если такой треугольник существует, то определить, является ли он разносторонним, равнобедренным или равносторонним."
      ]
    },
    {
      "cell_type": "code",
      "metadata": {
        "id": "P39IKlRIuM0w",
        "colab_type": "code",
        "colab": {}
      },
      "source": [
        "a = float(input(\"введите длину 1-го отрезка: \"))\n",
        "b = float(input(\"введите длину 2-го отрезка: \"))\n",
        "c = float(input(\"введите длину 3-го отрезка: \"))\n",
        "if a == c != b:\n",
        "    print (\"треугольник равнобедренный\")\n",
        "elif a == b == c:\n",
        "      print (\"треугольник равносторонний\")\n",
        "else: \n",
        "  print (\"треугольник разносторонний\")"
      ],
      "execution_count": 0,
      "outputs": []
    },
    {
      "cell_type": "markdown",
      "metadata": {
        "id": "KB8kv06NtEdj",
        "colab_type": "text"
      },
      "source": [
        "7. Определить, является ли год, который ввел пользователь, високосным или не високосным."
      ]
    },
    {
      "cell_type": "code",
      "metadata": {
        "id": "aOytpuuOuPKq",
        "colab_type": "code",
        "colab": {}
      },
      "source": [
        "import calendar\n",
        "y = int(input(\"введите год: \"))\n",
        "a = y % 4  \n",
        "b = y % 100 \n",
        "c = y % 400\n",
        "if a == 0 and b != 0:\n",
        "    print (\"год високосный\")\n",
        "elif c == 0:\n",
        "      print (\"год високосный\")\n",
        "else: \n",
        "  print (\"год не високосный\")"
      ],
      "execution_count": 0,
      "outputs": []
    },
    {
      "cell_type": "markdown",
      "metadata": {
        "id": "wEdhxUrLtk-U",
        "colab_type": "text"
      },
      "source": [
        "8. Вводятся три разных числа. Найти, какое из них является средним (больше одного, но меньше другого)."
      ]
    },
    {
      "cell_type": "code",
      "metadata": {
        "id": "T0Km6LLpuR7x",
        "colab_type": "code",
        "colab": {}
      },
      "source": [
        "a = float(input(\"введите 1-e число : \"))\n",
        "b = float(input(\"введите 2-e число : \"))\n",
        "c = float(input(\"введите 3-e число : \"))\n",
        "if a < b < c or a > b > c:\n",
        "    print (\"среднее число: \", b)\n",
        "elif b < c < a or  b > c > a:\n",
        "      print (\"среднее число: \", c)\n",
        "elif c < a < b or c > a > b:\n",
        "       print (\"среднее число: \", a)\n",
        "else: \n",
        "  print (\"среднего числа нет\")"
      ],
      "execution_count": 0,
      "outputs": []
    }
  ]
}