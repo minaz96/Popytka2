{
  "nbformat": 4,
  "nbformat_minor": 0,
  "metadata": {
    "colab": {
      "name": "Copy of IT_Marathon_Day_3.ipynb",
      "provenance": [],
      "authorship_tag": "ABX9TyM1y0ygCEzEGLMC/dgcSVWK",
      "include_colab_link": true
    },
    "kernelspec": {
      "name": "python3",
      "display_name": "Python 3"
    }
  },
  "cells": [
    {
      "cell_type": "markdown",
      "metadata": {
        "id": "view-in-github",
        "colab_type": "text"
      },
      "source": [
        "<a href=\"https://colab.research.google.com/github/minaz96/Popytka2/blob/master/IT_Marathon_Day_3.ipynb\" target=\"_parent\"><img src=\"https://colab.research.google.com/assets/colab-badge.svg\" alt=\"Open In Colab\"/></a>"
      ]
    },
    {
      "cell_type": "markdown",
      "metadata": {
        "id": "3A12T2FBdS00",
        "colab_type": "text"
      },
      "source": [
        "**Task 1** program to get a single string from two given strings, separated by a space and swap the first two characters of each string. \n",
        "Sample String : 'abc', 'xyz'\n",
        "Expected Result : 'xyc abz'"
      ]
    },
    {
      "cell_type": "code",
      "metadata": {
        "id": "R3LW_hgBdTqO",
        "colab_type": "code",
        "colab": {}
      },
      "source": [
        "a = str(input (\"введите первую строчку, где больше двух значений: \"))\n",
        "b = str(input (\"введите вторую строчку, где больше двух значений: \"))\n",
        "c = b[0:2]+a[2:]\n",
        "d = a[0:2]+b[2:]\n",
        "message = \"{} {}\".format (c, d)\n",
        "print(message)"
      ],
      "execution_count": 0,
      "outputs": []
    },
    {
      "cell_type": "markdown",
      "metadata": {
        "id": "E4YAsI9cAd_r",
        "colab_type": "text"
      },
      "source": [
        "**Task 2** program to remove the nth index character from a nonempty string."
      ]
    },
    {
      "cell_type": "code",
      "metadata": {
        "id": "l_XEG8q7kaex",
        "colab_type": "code",
        "colab": {}
      },
      "source": [
        "a = str(input (\"введите количество символов равное или больше n : \"))\n",
        "n = int(input (\"введите число n: \"))\n",
        "\n",
        "if (len(a)) != 0:\n",
        "   print(a[ :n] + a [n+1: ])\n",
        "else:\n",
        "     print(\"string is empty\")"
      ],
      "execution_count": 0,
      "outputs": []
    },
    {
      "cell_type": "markdown",
      "metadata": {
        "id": "k5g_ivZBAiar",
        "colab_type": "text"
      },
      "source": [
        "**GB1.** Написать программу, которая будет складывать, вычитать, умножать или делить два числа. Числа и знак операции вводятся пользователем. После выполнения вычисления программа не завершается, а запрашивает новые данные для вычислений. Завершение программы должно выполняться при вводе символа '0' в качестве знака операции. Если пользователь вводит неверный знак (не '0', '+', '-', '', '/'), программа должна сообщать об ошибке и снова запрашивать знак операции. Также она должна сообщать пользователю о невозможности деления на ноль, если он ввел его в качестве делителя."
      ]
    },
    {
      "cell_type": "code",
      "metadata": {
        "id": "fK91bIopU3m0",
        "colab_type": "code",
        "colab": {}
      },
      "source": [
        "print (\"при введении 0 программа завершится\")\n",
        "while True:\n",
        " a = (input(\"введите знак операции (+, -, *, /): \"))\n",
        " if a =='0': break\n",
        " if a in ('+', '-', '*', '/'):\n",
        "     b = float(input(\"введите 1-e число : \"))\n",
        "     c = float(input(\"введите 2-e число: \"))\n",
        "     if a == '+':\n",
        "        print (b+c)\n",
        "     elif a == '-':\n",
        "        print (b-c)\n",
        "     elif a == '*':\n",
        "        print (b*c)  \n",
        "     elif a == '/':\n",
        "         if c != 0:\n",
        "            print (b/c)\n",
        "         else: \n",
        "            print (\"делить на 0 нельзя\")\n",
        " else:\n",
        "   print(\"неверный знак операции\")"
      ],
      "execution_count": 0,
      "outputs": []
    },
    {
      "cell_type": "markdown",
      "metadata": {
        "id": "oc2qe90TAnE-",
        "colab_type": "text"
      },
      "source": [
        "**GB2.** Посчитать четные и нечетные цифры введенного натурального числа. Например, если введено число 34560, в нем 3 четные цифры (4, 6 и 0) и 2 нечетные (3 и 5). (use int)"
      ]
    },
    {
      "cell_type": "code",
      "metadata": {
        "id": "uvoMEWVKCpqV",
        "colab_type": "code",
        "colab": {}
      },
      "source": [
        "a = int(input(\"введите натуральное число: \")) \n",
        "even=odd=0\n",
        "while a>0:  \n",
        "  if a%2 == 0:\n",
        "    even += 1\n",
        "  else:\n",
        "    odd += 1\n",
        "  a = a // 10\n",
        "print(\"четных: %d, нечетных: %d\" % (even, odd))"
      ],
      "execution_count": 0,
      "outputs": []
    },
    {
      "cell_type": "markdown",
      "metadata": {
        "id": "HKANzXh9-eVQ",
        "colab_type": "text"
      },
      "source": [
        "**GB3.** Сформировать из введенного числа обратное по порядку входящих в него цифр и вывести на экран. Например, если введено число 3486, надо вывести 6843."
      ]
    },
    {
      "cell_type": "code",
      "metadata": {
        "id": "vBz9safj-jPN",
        "colab_type": "code",
        "colab": {}
      },
      "source": [
        "a = int(input(\"введите натуральное число: \"))\n",
        "b = 0\n",
        "while a>0:\n",
        " b = b*10 + a%10\n",
        " a = a // 10\n",
        "print (b)\n"
      ],
      "execution_count": 0,
      "outputs": []
    },
    {
      "cell_type": "markdown",
      "metadata": {
        "id": "JqO_c9WYAvO_",
        "colab_type": "text"
      },
      "source": [
        "**GB4.** Найти сумму n элементов следующего ряда чисел: 1, -0.5, 0.25, -0.125,… Количество элементов (n) вводится с клавиатуры. (use int)"
      ]
    },
    {
      "cell_type": "code",
      "metadata": {
        "id": "q1nRj3ben-Op",
        "colab_type": "code",
        "colab": {}
      },
      "source": [
        "n = int(input(\"введите количесиво элементов=n: \"))\n",
        "start = 1\n",
        "m = 0\n",
        "for i in range(n):\n",
        "    m += start\n",
        "    start /= -2\n",
        "print(m)"
      ],
      "execution_count": 0,
      "outputs": []
    },
    {
      "cell_type": "markdown",
      "metadata": {
        "id": "P4lbwChVA-Wa",
        "colab_type": "text"
      },
      "source": [
        "**GB5.** Вывести на экран коды и символы таблицы ASCII, начиная с символа под номером 32 и заканчивая 127-м включительно. Вывод выполнить в табличной форме: по десять пар «код-символ» в каждой строке."
      ]
    },
    {
      "cell_type": "code",
      "metadata": {
        "id": "3tu4VSogyVlJ",
        "colab_type": "code",
        "colab": {}
      },
      "source": [
        "for i in range(32,128):\n",
        "    print(\"%4d-%s\" % (i,chr(i)), end='')\n",
        "    if i%10 == 0:\n",
        "        print()\n",
        "print()\n"
      ],
      "execution_count": 0,
      "outputs": []
    },
    {
      "cell_type": "markdown",
      "metadata": {
        "id": "oGwx4LoxBDT0",
        "colab_type": "text"
      },
      "source": [
        "\n",
        "\n",
        "**GB6.** В программе генерируется случайное целое число от 0 до 100. Пользователь должен его отгадать не более чем за 10 попыток. После каждой неудачной попытки должно сообщаться, больше или меньше введенное пользователем число, чем то, что загадано. Если за 10 попыток число не отгадано, вывести ответ."
      ]
    },
    {
      "cell_type": "code",
      "metadata": {
        "id": "c3WoxbS7y_QD",
        "colab_type": "code",
        "colab": {}
      },
      "source": [
        "from random import random \n",
        "a1 = 0 \n",
        "a2 = 100\n",
        "x = int(random () * (a2 - a1 +1)) + a1 \n",
        "count = 1\n",
        "while count<=10: \n",
        "  a = int(input(\"У вас 10 попыток. Введите предполагаемое число: \"))\n",
        "  if a>x:\n",
        "     print (\"много\")\n",
        "  elif a<x:\n",
        "     print (\"мало\")\n",
        "  else:\n",
        "     print (\"число угадано\")\n",
        "     break \n",
        "  count += 1\n",
        "else:\n",
        " print (\"попытки исчерпаны, загаданное число = \", x)\n",
        "\n",
        "\n"
      ],
      "execution_count": 0,
      "outputs": []
    },
    {
      "cell_type": "markdown",
      "metadata": {
        "id": "73trRhhTBfjr",
        "colab_type": "text"
      },
      "source": [
        "**GB7.** Написать программу, доказывающую или проверяющую, что для множества натуральных чисел выполняется равенство: 1+2+...+n = n(n+1)/2, где n — любое натуральное число. (use int)"
      ]
    },
    {
      "cell_type": "code",
      "metadata": {
        "id": "iYVzxo3A4ucV",
        "colab_type": "code",
        "colab": {}
      },
      "source": [
        "n = int(input(\"введите любое натуральное число: \"))\n",
        "y = n * (n+1) / 2 \n",
        "x = 0\n",
        "for i in range (1, n+1):\n",
        "  x += i\n",
        "if x == y: \n",
        "   print (\"равенство верно, \", (x, y))\n",
        "else: \n",
        "    print (\"равенство неверно,\", (x, y))"
      ],
      "execution_count": 0,
      "outputs": []
    },
    {
      "cell_type": "markdown",
      "metadata": {
        "id": "uJlM7x1LBkU-",
        "colab_type": "text"
      },
      "source": [
        "**GB8.** Посчитать, сколько раз встречается определенная цифра в введенной последовательности чисел. Количество вводимых чисел и цифра, которую необходимо посчитать, задаются вводом с клавиатуры. (use int)"
      ]
    },
    {
      "cell_type": "code",
      "metadata": {
        "id": "w90bSZFkAL9C",
        "colab_type": "code",
        "colab": {}
      },
      "source": [
        "a = int(input(\"введите количество вводимых чисел= \"))\n",
        "b = int(input(\"цифра, которую необходимо посчитать= \"))\n",
        "count = 0\n",
        "for i in range (1, a+1):\n",
        "  n = int(input(\"Число \" + str(i) + \": \"))\n",
        "  while n > 0:\n",
        "        if n%10 == b:\n",
        "            count += 1\n",
        "        n = n // 10\n",
        "print(\"Было введено %d цифр %d\" % (count, b))"
      ],
      "execution_count": 0,
      "outputs": []
    },
    {
      "cell_type": "code",
      "metadata": {
        "id": "x5pW8fTHAL3B",
        "colab_type": "code",
        "colab": {}
      },
      "source": [
        ""
      ],
      "execution_count": 0,
      "outputs": []
    },
    {
      "cell_type": "markdown",
      "metadata": {
        "id": "EYsFntgsBoqI",
        "colab_type": "text"
      },
      "source": [
        "**GB9.** Среди натуральных чисел, которые были введены, найти наибольшее по сумме цифр. Вывести на экран это число и сумму его цифр. (use int)"
      ]
    },
    {
      "cell_type": "code",
      "metadata": {
        "id": "IBYiZ75kDa5P",
        "colab_type": "code",
        "colab": {}
      },
      "source": [
        "print(\"вводите натуральные числа. Если хотите остановиться введите 0\")\n",
        "a = int(input(\"введите число= \"))\n",
        "max_s = 0\n",
        "max_m = 0\n",
        "while a != 0:\n",
        "    m = a\n",
        "    s = 0\n",
        "    while a>0:\n",
        "        s += a%10\n",
        "        a //= 10\n",
        "    if s > max_s:\n",
        "        max_s = s\n",
        "        max_m = m\n",
        "    a = int(input(\"введите число= \"))\n",
        "print(\"Число\",max_m,\"имеет максимальную сумму цифр:\", max_s)"
      ],
      "execution_count": 0,
      "outputs": []
    }
  ]
}