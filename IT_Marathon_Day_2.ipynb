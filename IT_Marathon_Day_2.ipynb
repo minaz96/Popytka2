{
  "nbformat": 4,
  "nbformat_minor": 0,
  "metadata": {
    "colab": {
      "name": "IT Marathon Day 2.ipynb",
      "provenance": [],
      "authorship_tag": "ABX9TyOYl1aPwHBMW+K0j4ZBRAoA",
      "include_colab_link": true
    },
    "kernelspec": {
      "name": "python3",
      "display_name": "Python 3"
    }
  },
  "cells": [
    {
      "cell_type": "markdown",
      "metadata": {
        "id": "view-in-github",
        "colab_type": "text"
      },
      "source": [
        "<a href=\"https://colab.research.google.com/github/minaz96/Popytka2/blob/master/IT_Marathon_Day_2.ipynb\" target=\"_parent\"><img src=\"https://colab.research.google.com/assets/colab-badge.svg\" alt=\"Open In Colab\"/></a>"
      ]
    },
    {
      "cell_type": "code",
      "metadata": {
        "id": "661UQGZpyig5",
        "colab_type": "code",
        "colab": {}
      },
      "source": [
        ""
      ],
      "execution_count": 0,
      "outputs": []
    },
    {
      "cell_type": "markdown",
      "metadata": {
        "id": "2CDxRnvzy-V5",
        "colab_type": "text"
      },
      "source": [
        "**Task 1**\n",
        " Leap year checking (if, nested if, elif)"
      ]
    },
    {
      "cell_type": "code",
      "metadata": {
        "id": "MnURfEYfzfuS",
        "colab_type": "code",
        "colab": {
          "base_uri": "https://localhost:8080/",
          "height": 34
        },
        "outputId": "d97c52cf-bd03-45c1-c7e8-a56b3f0ceac8"
      },
      "source": [
        "lp =  1999\n",
        "N_lp = 2000\n",
        "if lp < N_lp:\n",
        "     print(\"Year is a leap year\")\n",
        "else:\n",
        "     print (\"Year is not a leap year\")"
      ],
      "execution_count": 3,
      "outputs": [
        {
          "output_type": "stream",
          "text": [
            "Year is a leap year\n"
          ],
          "name": "stdout"
        }
      ]
    },
    {
      "cell_type": "code",
      "metadata": {
        "id": "UM8CqE3e1ZVw",
        "colab_type": "code",
        "colab": {
          "base_uri": "https://localhost:8080/",
          "height": 34
        },
        "outputId": "bd592860-28ed-4926-a17c-f37fd74c9483"
      },
      "source": [
        "lp = 2000\n",
        "N_lp = 1999\n",
        "if lp < N_lp:\n",
        "     print(\"Year is a leap year\")\n",
        "elif lp == N_lp:\n",
        "     print(\"Year is undefined\")\n",
        "else:\n",
        "     print (\"Year is not a leap year\")"
      ],
      "execution_count": 7,
      "outputs": [
        {
          "output_type": "stream",
          "text": [
            "Year is not a leap year\n"
          ],
          "name": "stdout"
        }
      ]
    },
    {
      "cell_type": "code",
      "metadata": {
        "id": "rZVA9IMg2Ys_",
        "colab_type": "code",
        "colab": {
          "base_uri": "https://localhost:8080/",
          "height": 34
        },
        "outputId": "d6ab6a7c-c826-4403-d538-7ccc3453d500"
      },
      "source": [
        "lp = 2000\n",
        "N_lp = 2000\n",
        "if lp < N_lp:\n",
        "     print(\"Year is a leap year\")\n",
        "elif lp == N_lp:\n",
        "     print(\"Year is undefined\")\n",
        "else:\n",
        "     print (\"Year is not a leap year\")"
      ],
      "execution_count": 6,
      "outputs": [
        {
          "output_type": "stream",
          "text": [
            "Year is undefined\n"
          ],
          "name": "stdout"
        }
      ]
    },
    {
      "cell_type": "code",
      "metadata": {
        "id": "SMGZmvbC212Q",
        "colab_type": "code",
        "colab": {
          "base_uri": "https://localhost:8080/",
          "height": 51
        },
        "outputId": "b8aebfaf-811f-4e8f-fc84-5ee445f04fc4"
      },
      "source": [
        "days = 365\n",
        "year = \"2000\"\n",
        "year = \"1999\"\n",
        "if year == \"2000\":\n",
        "    if days <= 365:\n",
        "        print (\"Year is not a leap year\")\n",
        "elif days <= 366:\n",
        "        print (\"Year is a leap year\")\n",
        "else:\n",
        "        print (\"undefined\")\n",
        "if year == \"1999\": \n",
        "      if days <= 365:\n",
        "          print (\"Year is not a leap year\")\n",
        "elif days <= 366:\n",
        "        print (\"Year is a leap year\")\n",
        "else:\n",
        "        print (\"undefined\")"
      ],
      "execution_count": 28,
      "outputs": [
        {
          "output_type": "stream",
          "text": [
            "Year is a leap year\n",
            "Year is not a leap year\n"
          ],
          "name": "stdout"
        }
      ]
    },
    {
      "cell_type": "markdown",
      "metadata": {
        "id": "pztkbKCu56yR",
        "colab_type": "text"
      },
      "source": [
        "**Task 2** accepts an integer (n) and computes the value of nXnnXnnn.  Sample value of n is 5. Expected Result : 152625 "
      ]
    },
    {
      "cell_type": "code",
      "metadata": {
        "id": "yRi3onB28L54",
        "colab_type": "code",
        "colab": {
          "base_uri": "https://localhost:8080/",
          "height": 34
        },
        "outputId": "88281c54-9709-40e8-f003-01f7e0c768c1"
      },
      "source": [
        "n = 5 \n",
        "nn = 55\n",
        "nnn = 555\n",
        "print(n * nn * nnn)"
      ],
      "execution_count": 29,
      "outputs": [
        {
          "output_type": "stream",
          "text": [
            "152625\n"
          ],
          "name": "stdout"
        }
      ]
    },
    {
      "cell_type": "markdown",
      "metadata": {
        "id": "vij6MrSBT-zx",
        "colab_type": "text"
      },
      "source": [
        "**Task 3** to find whether a given number (accept from the user) is even or odd"
      ]
    },
    {
      "cell_type": "code",
      "metadata": {
        "id": "mTG6r-yMTZ1s",
        "colab_type": "code",
        "colab": {
          "base_uri": "https://localhost:8080/",
          "height": 34
        },
        "outputId": "7c98a741-9075-4f20-a1a4-c192bbd264ab"
      },
      "source": [
        "x = 3\n",
        "b = (x%2)\n",
        "if b == 0:\n",
        "  print(\"the number is even\")\n",
        "else:\n",
        "  print(\"the number is odd\")"
      ],
      "execution_count": 32,
      "outputs": [
        {
          "output_type": "stream",
          "text": [
            "the number is odd\n"
          ],
          "name": "stdout"
        }
      ]
    }
  ]
}